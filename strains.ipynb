{
 "cells": [
  {
   "cell_type": "code",
   "execution_count": 1,
   "metadata": {},
   "outputs": [],
   "source": [
    "import pandas as pd\n",
    "import numpy as np\n",
    "import csv"
   ]
  },
  {
   "cell_type": "code",
   "execution_count": 2,
   "metadata": {},
   "outputs": [],
   "source": [
    "strains = pd.read_csv('strains.csv')"
   ]
  },
  {
   "cell_type": "code",
   "execution_count": 3,
   "metadata": {},
   "outputs": [
    {
     "data": {
      "text/html": [
       "<div>\n",
       "<style scoped>\n",
       "    .dataframe tbody tr th:only-of-type {\n",
       "        vertical-align: middle;\n",
       "    }\n",
       "\n",
       "    .dataframe tbody tr th {\n",
       "        vertical-align: top;\n",
       "    }\n",
       "\n",
       "    .dataframe thead th {\n",
       "        text-align: right;\n",
       "    }\n",
       "</style>\n",
       "<table border=\"1\" class=\"dataframe\">\n",
       "  <thead>\n",
       "    <tr style=\"text-align: right;\">\n",
       "      <th></th>\n",
       "      <th>Unnamed: 0</th>\n",
       "      <th>name</th>\n",
       "      <th>type</th>\n",
       "      <th>rating</th>\n",
       "      <th>reviews</th>\n",
       "      <th>thc</th>\n",
       "      <th>growth_difficulty</th>\n",
       "      <th>plant_height</th>\n",
       "      <th>yield_oz_per_ft_sqrd</th>\n",
       "      <th>flowering_weeks</th>\n",
       "      <th>...</th>\n",
       "      <th>fibromyalgia</th>\n",
       "      <th>epilepsy</th>\n",
       "      <th>anorexia</th>\n",
       "      <th>spasticity</th>\n",
       "      <th>dry_mouth</th>\n",
       "      <th>dry_eyes</th>\n",
       "      <th>paranoid</th>\n",
       "      <th>dizzy</th>\n",
       "      <th>anxious</th>\n",
       "      <th>headache</th>\n",
       "    </tr>\n",
       "  </thead>\n",
       "  <tbody>\n",
       "    <tr>\n",
       "      <th>0</th>\n",
       "      <td>1</td>\n",
       "      <td>Blue Dream</td>\n",
       "      <td>Hybrid</td>\n",
       "      <td>4.3</td>\n",
       "      <td>13203.0</td>\n",
       "      <td>19.0</td>\n",
       "      <td>Moderate</td>\n",
       "      <td>&gt; 78</td>\n",
       "      <td>3 - 6</td>\n",
       "      <td>10 - 12</td>\n",
       "      <td>...</td>\n",
       "      <td>NaN</td>\n",
       "      <td>NaN</td>\n",
       "      <td>NaN</td>\n",
       "      <td>NaN</td>\n",
       "      <td>31.0</td>\n",
       "      <td>16.0</td>\n",
       "      <td>7.0</td>\n",
       "      <td>7.0</td>\n",
       "      <td>4.0</td>\n",
       "      <td>NaN</td>\n",
       "    </tr>\n",
       "    <tr>\n",
       "      <th>1</th>\n",
       "      <td>2</td>\n",
       "      <td>Gelato</td>\n",
       "      <td>Hybrid</td>\n",
       "      <td>4.7</td>\n",
       "      <td>1555.0</td>\n",
       "      <td>17.0</td>\n",
       "      <td>NaN</td>\n",
       "      <td>NaN</td>\n",
       "      <td>NaN</td>\n",
       "      <td>NaN</td>\n",
       "      <td>...</td>\n",
       "      <td>NaN</td>\n",
       "      <td>NaN</td>\n",
       "      <td>NaN</td>\n",
       "      <td>NaN</td>\n",
       "      <td>24.0</td>\n",
       "      <td>11.0</td>\n",
       "      <td>4.0</td>\n",
       "      <td>4.0</td>\n",
       "      <td>4.0</td>\n",
       "      <td>NaN</td>\n",
       "    </tr>\n",
       "    <tr>\n",
       "      <th>2</th>\n",
       "      <td>3</td>\n",
       "      <td>Sour Diesel</td>\n",
       "      <td>Sativa</td>\n",
       "      <td>4.3</td>\n",
       "      <td>7633.0</td>\n",
       "      <td>19.0</td>\n",
       "      <td>Moderate</td>\n",
       "      <td>&gt; 78</td>\n",
       "      <td>1 - 3</td>\n",
       "      <td>10 - 12</td>\n",
       "      <td>...</td>\n",
       "      <td>NaN</td>\n",
       "      <td>NaN</td>\n",
       "      <td>NaN</td>\n",
       "      <td>NaN</td>\n",
       "      <td>35.0</td>\n",
       "      <td>19.0</td>\n",
       "      <td>10.0</td>\n",
       "      <td>8.0</td>\n",
       "      <td>NaN</td>\n",
       "      <td>5.0</td>\n",
       "    </tr>\n",
       "  </tbody>\n",
       "</table>\n",
       "<p>3 rows × 58 columns</p>\n",
       "</div>"
      ],
      "text/plain": [
       "   Unnamed: 0         name    type  rating  reviews   thc growth_difficulty  \\\n",
       "0           1   Blue Dream  Hybrid     4.3  13203.0  19.0          Moderate   \n",
       "1           2       Gelato  Hybrid     4.7   1555.0  17.0               NaN   \n",
       "2           3  Sour Diesel  Sativa     4.3   7633.0  19.0          Moderate   \n",
       "\n",
       "  plant_height yield_oz_per_ft_sqrd flowering_weeks  ...  fibromyalgia  \\\n",
       "0         > 78                3 - 6         10 - 12  ...           NaN   \n",
       "1          NaN                  NaN             NaN  ...           NaN   \n",
       "2         > 78                1 - 3         10 - 12  ...           NaN   \n",
       "\n",
       "  epilepsy anorexia  spasticity  dry_mouth  dry_eyes  paranoid  dizzy  \\\n",
       "0      NaN      NaN         NaN       31.0      16.0       7.0    7.0   \n",
       "1      NaN      NaN         NaN       24.0      11.0       4.0    4.0   \n",
       "2      NaN      NaN         NaN       35.0      19.0      10.0    8.0   \n",
       "\n",
       "   anxious  headache  \n",
       "0      4.0       NaN  \n",
       "1      4.0       NaN  \n",
       "2      NaN       5.0  \n",
       "\n",
       "[3 rows x 58 columns]"
      ]
     },
     "execution_count": 3,
     "metadata": {},
     "output_type": "execute_result"
    }
   ],
   "source": [
    "strains.head(3)"
   ]
  },
  {
   "cell_type": "markdown",
   "metadata": {},
   "source": [
    "Network files for Gephi"
   ]
  },
  {
   "cell_type": "code",
   "execution_count": 4,
   "metadata": {},
   "outputs": [],
   "source": [
    "# nodes file\n",
    "nodes = strains[['name','type','thc','energy']].reset_index().rename({'index': 'id', 'name': 'label'}, axis=1)\n",
    "nodes.to_csv('nodes.csv', index=False)"
   ]
  },
  {
   "cell_type": "code",
   "execution_count": 5,
   "metadata": {},
   "outputs": [],
   "source": [
    "# edges file\n",
    "nodes = pd.read_csv('nodes.csv')\n",
    "f = open('edges.csv','w')\n",
    "f.write('source,target\\n')\n",
    "for index, row in strains.iterrows():\n",
    "    # check if parent is NAN\n",
    "    if not pd.isnull(row['parent1']):\n",
    "        # add edge if parent exists in nodes.csv\n",
    "        if row['parent1'] in nodes.label.values:\n",
    "            # source=id=index, target=id of parent\n",
    "            f.write('{},{}\\n'.format(index, nodes[nodes.label == row['parent1']].id.iloc[0]))\n",
    "    if not pd.isnull(row['parent2']):\n",
    "        if row['parent2'] in nodes.label.values:\n",
    "            f.write('{},{}\\n'.format(index, nodes[nodes.label == row['parent2']].id.iloc[0]))\n",
    "f.close()"
   ]
  },
  {
   "cell_type": "markdown",
   "metadata": {},
   "source": [
    "Top 10 strain files for Tableau"
   ]
  },
  {
   "cell_type": "markdown",
   "metadata": {},
   "source": [
    "Includes the strain and its children"
   ]
  },
  {
   "cell_type": "code",
   "execution_count": 6,
   "metadata": {},
   "outputs": [],
   "source": [
    "# top strains were discovered in network visualization through GEPHI (check GitHub)\n",
    "top = ['OG Kush', 'Afghani', 'Skunk No. 1', 'Blueberry', 'GSC', 'Sour Diesel', 'White Widow', 'Blue Dream', 'Haze', 'Jack Herer']\n",
    "\n",
    "for strain in top:\n",
    "    f = open('{}.csv'.format(strain.replace(\" \", \"_\")),'w')\n",
    "    f.write('label,name,type,shape,thc,energy\\n')\n",
    "    # get strain \n",
    "    s = nodes[nodes.label == strain]\n",
    "    f.write('{},{},{},{},{},{}\\n'.format(strain, strain, s.type.iloc[0], 'Parent', s.thc.iloc[0], s.energy.iloc[0]))\n",
    "\n",
    "    # children: all strains that have the given strain as a parent\n",
    "    children = strains.loc[(strains.parent1 == strain) | (strains.parent2 == strain)].reset_index(drop=True)\n",
    "    for index, row in children.iterrows():\n",
    "        # add child\n",
    "        f.write('{},{},{},{},{},{}\\n'.format(index+1, row['name'], row['type'], 'Child', row['thc'], row['energy']))\n",
    "        \n",
    "    f.close()"
   ]
  },
  {
   "cell_type": "markdown",
   "metadata": {},
   "source": [
    "(Optional) Adds breeding partners into the mix"
   ]
  },
  {
   "cell_type": "code",
   "execution_count": null,
   "metadata": {},
   "outputs": [],
   "source": [
    "# top strains were discovered in network visualization through GEPHI (check GitHub)\n",
    "top = ['OG Kush', 'Afghani', 'Skunk No. 1', 'Blueberry', 'GSC', 'Sour Diesel', 'White Widow', 'Blue Dream', 'Haze', 'Jack Herer']\n",
    "\n",
    "for strain in top:\n",
    "    f = open('{}+breeding_partners.csv'.format(strain.replace(\" \", \"_\")),'w')\n",
    "    f.write('label,name,type,shape,thc,energy\\n')\n",
    "    # get strain \n",
    "    s = nodes[nodes.label == strain]\n",
    "    f.write('{},{},{},{},{},{}\\n'.format(strain, strain, s.type.iloc[0], 1, s.thc.iloc[0], s.energy.iloc[0]))\n",
    "\n",
    "    # family: all strains that have the given strain as a parent\n",
    "    family = strains.loc[(strains.parent1 == strain) | (strains.parent2 == strain)].reset_index(drop=True)\n",
    "    for index, row in family.iterrows():\n",
    "        # labeled the same number: child and mate, aka child's other parent\n",
    "        # add child\n",
    "        f.write('{},{},{},{},{},{}\\n'.format(index+1, row['name'], row['type'], 2, row['thc'], row['energy']))\n",
    "        # add mate\n",
    "        if row['parent1'] != strain and not pd.isnull(row['parent1']):\n",
    "            mate = nodes[nodes.label == row['parent1']]\n",
    "            f.write('{},{},{},{},{},{}\\n'.format(index+1, mate.label.iloc[0], mate.type.iloc[0], 1, mate.thc.iloc[0], mate.energy.iloc[0]))\n",
    "        \n",
    "        if row['parent2'] != strain and not pd.isnull(row['parent2']):\n",
    "            mate = nodes[nodes.label == row['parent2']]\n",
    "            f.write('{},{},{},{},{},{}\\n'.format(index+1, mate.label.iloc[0], mate.type.iloc[0], 1, mate.thc.iloc[0], mate.energy.iloc[0]))\n",
    "    f.close()"
   ]
  }
 ],
 "metadata": {
  "instance_type": "ml.t3.medium",
  "kernelspec": {
   "display_name": "Python 3 (Data Science)",
   "language": "python",
   "name": "python3__SAGEMAKER_INTERNAL__arn:aws:sagemaker:us-east-1:081325390199:image/datascience-1.0"
  },
  "language_info": {
   "codemirror_mode": {
    "name": "ipython",
    "version": 3
   },
   "file_extension": ".py",
   "mimetype": "text/x-python",
   "name": "python",
   "nbconvert_exporter": "python",
   "pygments_lexer": "ipython3",
   "version": "3.7.6"
  }
 },
 "nbformat": 4,
 "nbformat_minor": 4
}
